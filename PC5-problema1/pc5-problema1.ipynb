{
  "cells": [
    {
      "cell_type": "markdown",
      "metadata": {
        "id": "h_WwpeKYKF9q"
      },
      "source": [
        "# Ejercicio1 - Busqueda de Alojamiento en Airbnb (Jupyter).\n",
        "\n",
        "Supongamos que somos un agente de [Airbnb](http://www.airbnb.com) localizado en Lisboa, y tenemos que atender peticiones de varios clientes. Tenemos un archivo llamado `airbnb.csv` (en la carpeta data) donde tenemos información de todos los alojamientos de Airbnb en Lisboa."
      ]
    },
    {
      "cell_type": "code",
      "execution_count": 1,
      "metadata": {
        "id": "jUJFcrxtKF9r"
      },
      "outputs": [],
      "source": [
        "import pandas as pd\n",
        "df_airbnb = pd.read_csv(\"./data/airbnb.csv\")"
      ]
    },
    {
      "cell_type": "code",
      "execution_count": 2,
      "metadata": {
        "colab": {
          "base_uri": "https://localhost:8080/",
          "height": 293
        },
        "id": "qa6goWxvKF9s",
        "outputId": "6f07f9af-3298-452d-ce3c-61d455fe033c"
      },
      "outputs": [
        {
          "data": {
            "text/html": [
              "<div>\n",
              "<style scoped>\n",
              "    .dataframe tbody tr th:only-of-type {\n",
              "        vertical-align: middle;\n",
              "    }\n",
              "\n",
              "    .dataframe tbody tr th {\n",
              "        vertical-align: top;\n",
              "    }\n",
              "\n",
              "    .dataframe thead th {\n",
              "        text-align: right;\n",
              "    }\n",
              "</style>\n",
              "<table border=\"1\" class=\"dataframe\">\n",
              "  <thead>\n",
              "    <tr style=\"text-align: right;\">\n",
              "      <th></th>\n",
              "      <th>room_id</th>\n",
              "      <th>host_id</th>\n",
              "      <th>room_type</th>\n",
              "      <th>neighborhood</th>\n",
              "      <th>reviews</th>\n",
              "      <th>overall_satisfaction</th>\n",
              "      <th>accommodates</th>\n",
              "      <th>bedrooms</th>\n",
              "      <th>price</th>\n",
              "    </tr>\n",
              "  </thead>\n",
              "  <tbody>\n",
              "    <tr>\n",
              "      <th>0</th>\n",
              "      <td>6499</td>\n",
              "      <td>14455</td>\n",
              "      <td>Entire home/apt</td>\n",
              "      <td>Belém</td>\n",
              "      <td>8</td>\n",
              "      <td>5.0</td>\n",
              "      <td>2</td>\n",
              "      <td>1.0</td>\n",
              "      <td>57.0</td>\n",
              "    </tr>\n",
              "    <tr>\n",
              "      <th>1</th>\n",
              "      <td>17031</td>\n",
              "      <td>66015</td>\n",
              "      <td>Entire home/apt</td>\n",
              "      <td>Alvalade</td>\n",
              "      <td>0</td>\n",
              "      <td>0.0</td>\n",
              "      <td>2</td>\n",
              "      <td>1.0</td>\n",
              "      <td>46.0</td>\n",
              "    </tr>\n",
              "    <tr>\n",
              "      <th>2</th>\n",
              "      <td>25659</td>\n",
              "      <td>107347</td>\n",
              "      <td>Entire home/apt</td>\n",
              "      <td>Santa Maria Maior</td>\n",
              "      <td>63</td>\n",
              "      <td>5.0</td>\n",
              "      <td>3</td>\n",
              "      <td>1.0</td>\n",
              "      <td>69.0</td>\n",
              "    </tr>\n",
              "    <tr>\n",
              "      <th>3</th>\n",
              "      <td>29248</td>\n",
              "      <td>125768</td>\n",
              "      <td>Entire home/apt</td>\n",
              "      <td>Santa Maria Maior</td>\n",
              "      <td>225</td>\n",
              "      <td>4.5</td>\n",
              "      <td>4</td>\n",
              "      <td>1.0</td>\n",
              "      <td>58.0</td>\n",
              "    </tr>\n",
              "    <tr>\n",
              "      <th>4</th>\n",
              "      <td>29396</td>\n",
              "      <td>126415</td>\n",
              "      <td>Entire home/apt</td>\n",
              "      <td>Santa Maria Maior</td>\n",
              "      <td>132</td>\n",
              "      <td>5.0</td>\n",
              "      <td>4</td>\n",
              "      <td>1.0</td>\n",
              "      <td>67.0</td>\n",
              "    </tr>\n",
              "  </tbody>\n",
              "</table>\n",
              "</div>"
            ],
            "text/plain": [
              "   room_id  host_id        room_type       neighborhood  reviews  \\\n",
              "0     6499    14455  Entire home/apt              Belém        8   \n",
              "1    17031    66015  Entire home/apt           Alvalade        0   \n",
              "2    25659   107347  Entire home/apt  Santa Maria Maior       63   \n",
              "3    29248   125768  Entire home/apt  Santa Maria Maior      225   \n",
              "4    29396   126415  Entire home/apt  Santa Maria Maior      132   \n",
              "\n",
              "   overall_satisfaction  accommodates  bedrooms  price  \n",
              "0                   5.0             2       1.0   57.0  \n",
              "1                   0.0             2       1.0   46.0  \n",
              "2                   5.0             3       1.0   69.0  \n",
              "3                   4.5             4       1.0   58.0  \n",
              "4                   5.0             4       1.0   67.0  "
            ]
          },
          "execution_count": 2,
          "metadata": {},
          "output_type": "execute_result"
        }
      ],
      "source": [
        "df_airbnb.head()"
      ]
    },
    {
      "cell_type": "markdown",
      "metadata": {
        "id": "lWmcMNEbKF9s"
      },
      "source": [
        "En concreto el dataset tiene las siguientes variables:\n",
        "- room_id: el identificador de la propiedad\n",
        "- host_id: el identificador del dueño de la propiedad\n",
        "- room_type: tipo de propiedad (vivienda completa/(habitacion para compartir/habitación privada)\n",
        "- neighborhood: el barrio de Lisboa\n",
        "- reviews: El numero de opiniones\n",
        "- overall_satisfaction: Puntuacion media del apartamento\n",
        "- accommodates: El numero de personas que se pueden alojar en la propiedad\n",
        "- bedrooms: El número de habitaciones\n",
        "- price: El precio (en euros) por noche"
      ]
    },
    {
      "cell_type": "markdown",
      "metadata": {
        "id": "VOq3tIrTKF9s"
      },
      "source": [
        "## Ejercicios"
      ]
    },
    {
      "cell_type": "markdown",
      "metadata": {
        "id": "_dDzp3r1KF9t"
      },
      "source": [
        "### 1. Realizar Análisis Exploratorio de los datos"
      ]
    },
    {
      "cell_type": "markdown",
      "metadata": {
        "id": "JiRAjIv-KF9t"
      },
      "source": [
        "Sobre este apartado deberá explorar los datos como se vio en clase .. aplicar métodos shape, columns, etc"
      ]
    },
    {
      "cell_type": "code",
      "execution_count": 4,
      "metadata": {
        "id": "RAR5rRnWSWIs"
      },
      "outputs": [],
      "source": [
        "import pandas as pd\n",
        "import seaborn as sns"
      ]
    },
    {
      "cell_type": "code",
      "execution_count": 5,
      "metadata": {
        "id": "LfLgW99GSXvV"
      },
      "outputs": [],
      "source": [
        "# Cargar los datos\n",
        "df_airbnb = pd.read_csv(\"./data/airbnb.csv\")"
      ]
    },
    {
      "cell_type": "code",
      "execution_count": 6,
      "metadata": {
        "colab": {
          "base_uri": "https://localhost:8080/"
        },
        "id": "zMwryCCGSYu7",
        "outputId": "69a4f4aa-b7d5-4041-ca79-d67e66ae746f"
      },
      "outputs": [
        {
          "name": "stdout",
          "output_type": "stream",
          "text": [
            "🔹 Dimensiones del dataset: (13232, 9)\n",
            "🔹 Columnas: ['room_id', 'host_id', 'room_type', 'neighborhood', 'reviews', 'overall_satisfaction', 'accommodates', 'bedrooms', 'price']\n"
          ]
        }
      ],
      "source": [
        "# Vista general del DataFrame\n",
        "print(\"🔹 Dimensiones del dataset:\", df_airbnb.shape)\n",
        "print(\"🔹 Columnas:\", df_airbnb.columns.tolist())"
      ]
    },
    {
      "cell_type": "code",
      "execution_count": 8,
      "metadata": {
        "colab": {
          "base_uri": "https://localhost:8080/"
        },
        "id": "aLMk5brFSa6t",
        "outputId": "19351b10-7713-47c1-ebc6-de932a8523c6"
      },
      "outputs": [
        {
          "name": "stdout",
          "output_type": "stream",
          "text": [
            "\n",
            "🔍 Información general del DataFrame:\n",
            "<class 'pandas.core.frame.DataFrame'>\n",
            "RangeIndex: 13232 entries, 0 to 13231\n",
            "Data columns (total 9 columns):\n",
            " #   Column                Non-Null Count  Dtype  \n",
            "---  ------                --------------  -----  \n",
            " 0   room_id               13232 non-null  int64  \n",
            " 1   host_id               13232 non-null  int64  \n",
            " 2   room_type             13232 non-null  object \n",
            " 3   neighborhood          13232 non-null  object \n",
            " 4   reviews               13232 non-null  int64  \n",
            " 5   overall_satisfaction  13222 non-null  float64\n",
            " 6   accommodates          13232 non-null  int64  \n",
            " 7   bedrooms              13232 non-null  float64\n",
            " 8   price                 13232 non-null  float64\n",
            "dtypes: float64(3), int64(4), object(2)\n",
            "memory usage: 930.5+ KB\n",
            "None\n"
          ]
        }
      ],
      "source": [
        "# Tipos de datos y valores nulos\n",
        "print(\"\\n🔍 Información general del DataFrame:\")\n",
        "print(df_airbnb.info())"
      ]
    },
    {
      "cell_type": "code",
      "execution_count": 9,
      "metadata": {
        "colab": {
          "base_uri": "https://localhost:8080/"
        },
        "id": "JER1nh3hScMS",
        "outputId": "accc2c4b-9806-4982-f796-580dc6d7e65a"
      },
      "outputs": [
        {
          "name": "stdout",
          "output_type": "stream",
          "text": [
            "\n",
            "❗ Valores nulos por columna:\n",
            "room_id                  0\n",
            "host_id                  0\n",
            "room_type                0\n",
            "neighborhood             0\n",
            "reviews                  0\n",
            "overall_satisfaction    10\n",
            "accommodates             0\n",
            "bedrooms                 0\n",
            "price                    0\n",
            "dtype: int64\n"
          ]
        }
      ],
      "source": [
        "# Verificar valores nulos por columna\n",
        "print(\"\\n❗ Valores nulos por columna:\")\n",
        "print(df_airbnb.isnull().sum())"
      ]
    },
    {
      "cell_type": "code",
      "execution_count": 10,
      "metadata": {
        "colab": {
          "base_uri": "https://localhost:8080/",
          "height": 335
        },
        "id": "5YJNd4ImSd1y",
        "outputId": "63d37e47-6893-4446-c8f5-ab8847e99695"
      },
      "outputs": [
        {
          "name": "stdout",
          "output_type": "stream",
          "text": [
            "\n",
            "📊 Estadísticas descriptivas:\n"
          ]
        },
        {
          "data": {
            "text/html": [
              "<div>\n",
              "<style scoped>\n",
              "    .dataframe tbody tr th:only-of-type {\n",
              "        vertical-align: middle;\n",
              "    }\n",
              "\n",
              "    .dataframe tbody tr th {\n",
              "        vertical-align: top;\n",
              "    }\n",
              "\n",
              "    .dataframe thead th {\n",
              "        text-align: right;\n",
              "    }\n",
              "</style>\n",
              "<table border=\"1\" class=\"dataframe\">\n",
              "  <thead>\n",
              "    <tr style=\"text-align: right;\">\n",
              "      <th></th>\n",
              "      <th>room_id</th>\n",
              "      <th>host_id</th>\n",
              "      <th>reviews</th>\n",
              "      <th>overall_satisfaction</th>\n",
              "      <th>accommodates</th>\n",
              "      <th>bedrooms</th>\n",
              "      <th>price</th>\n",
              "    </tr>\n",
              "  </thead>\n",
              "  <tbody>\n",
              "    <tr>\n",
              "      <th>count</th>\n",
              "      <td>1.323200e+04</td>\n",
              "      <td>1.323200e+04</td>\n",
              "      <td>13232.000000</td>\n",
              "      <td>13222.000000</td>\n",
              "      <td>13232.000000</td>\n",
              "      <td>13232.000000</td>\n",
              "      <td>13232.000000</td>\n",
              "    </tr>\n",
              "    <tr>\n",
              "      <th>mean</th>\n",
              "      <td>1.055081e+07</td>\n",
              "      <td>3.616444e+07</td>\n",
              "      <td>29.130063</td>\n",
              "      <td>3.284677</td>\n",
              "      <td>3.917775</td>\n",
              "      <td>1.549501</td>\n",
              "      <td>86.592352</td>\n",
              "    </tr>\n",
              "    <tr>\n",
              "      <th>std</th>\n",
              "      <td>6.069884e+06</td>\n",
              "      <td>3.706975e+07</td>\n",
              "      <td>42.802762</td>\n",
              "      <td>2.123236</td>\n",
              "      <td>2.293757</td>\n",
              "      <td>1.062821</td>\n",
              "      <td>135.208926</td>\n",
              "    </tr>\n",
              "    <tr>\n",
              "      <th>min</th>\n",
              "      <td>6.499000e+03</td>\n",
              "      <td>1.445500e+04</td>\n",
              "      <td>0.000000</td>\n",
              "      <td>0.000000</td>\n",
              "      <td>1.000000</td>\n",
              "      <td>0.000000</td>\n",
              "      <td>10.000000</td>\n",
              "    </tr>\n",
              "    <tr>\n",
              "      <th>25%</th>\n",
              "      <td>5.054848e+06</td>\n",
              "      <td>6.197930e+06</td>\n",
              "      <td>2.000000</td>\n",
              "      <td>0.000000</td>\n",
              "      <td>2.000000</td>\n",
              "      <td>1.000000</td>\n",
              "      <td>45.000000</td>\n",
              "    </tr>\n",
              "    <tr>\n",
              "      <th>50%</th>\n",
              "      <td>1.166226e+07</td>\n",
              "      <td>2.207571e+07</td>\n",
              "      <td>11.000000</td>\n",
              "      <td>4.500000</td>\n",
              "      <td>4.000000</td>\n",
              "      <td>1.000000</td>\n",
              "      <td>64.000000</td>\n",
              "    </tr>\n",
              "    <tr>\n",
              "      <th>75%</th>\n",
              "      <td>1.609631e+07</td>\n",
              "      <td>5.546697e+07</td>\n",
              "      <td>39.000000</td>\n",
              "      <td>5.000000</td>\n",
              "      <td>5.000000</td>\n",
              "      <td>2.000000</td>\n",
              "      <td>93.000000</td>\n",
              "    </tr>\n",
              "    <tr>\n",
              "      <th>max</th>\n",
              "      <td>1.940072e+07</td>\n",
              "      <td>1.359156e+08</td>\n",
              "      <td>438.000000</td>\n",
              "      <td>5.000000</td>\n",
              "      <td>16.000000</td>\n",
              "      <td>10.000000</td>\n",
              "      <td>7496.000000</td>\n",
              "    </tr>\n",
              "  </tbody>\n",
              "</table>\n",
              "</div>"
            ],
            "text/plain": [
              "            room_id       host_id       reviews  overall_satisfaction  \\\n",
              "count  1.323200e+04  1.323200e+04  13232.000000          13222.000000   \n",
              "mean   1.055081e+07  3.616444e+07     29.130063              3.284677   \n",
              "std    6.069884e+06  3.706975e+07     42.802762              2.123236   \n",
              "min    6.499000e+03  1.445500e+04      0.000000              0.000000   \n",
              "25%    5.054848e+06  6.197930e+06      2.000000              0.000000   \n",
              "50%    1.166226e+07  2.207571e+07     11.000000              4.500000   \n",
              "75%    1.609631e+07  5.546697e+07     39.000000              5.000000   \n",
              "max    1.940072e+07  1.359156e+08    438.000000              5.000000   \n",
              "\n",
              "       accommodates      bedrooms         price  \n",
              "count  13232.000000  13232.000000  13232.000000  \n",
              "mean       3.917775      1.549501     86.592352  \n",
              "std        2.293757      1.062821    135.208926  \n",
              "min        1.000000      0.000000     10.000000  \n",
              "25%        2.000000      1.000000     45.000000  \n",
              "50%        4.000000      1.000000     64.000000  \n",
              "75%        5.000000      2.000000     93.000000  \n",
              "max       16.000000     10.000000   7496.000000  "
            ]
          },
          "metadata": {},
          "output_type": "display_data"
        }
      ],
      "source": [
        "# Estadísticas descriptivas\n",
        "print(\"\\n📊 Estadísticas descriptivas:\")\n",
        "display(df_airbnb.describe())"
      ]
    },
    {
      "cell_type": "code",
      "execution_count": 11,
      "metadata": {
        "colab": {
          "base_uri": "https://localhost:8080/",
          "height": 328
        },
        "id": "vVSIe1Y5Sez0",
        "outputId": "db9d951c-3729-45cd-a9f1-0e85ee817104"
      },
      "outputs": [
        {
          "name": "stdout",
          "output_type": "stream",
          "text": [
            "\n",
            "👀 Primeras filas del dataset:\n"
          ]
        },
        {
          "data": {
            "text/html": [
              "<div>\n",
              "<style scoped>\n",
              "    .dataframe tbody tr th:only-of-type {\n",
              "        vertical-align: middle;\n",
              "    }\n",
              "\n",
              "    .dataframe tbody tr th {\n",
              "        vertical-align: top;\n",
              "    }\n",
              "\n",
              "    .dataframe thead th {\n",
              "        text-align: right;\n",
              "    }\n",
              "</style>\n",
              "<table border=\"1\" class=\"dataframe\">\n",
              "  <thead>\n",
              "    <tr style=\"text-align: right;\">\n",
              "      <th></th>\n",
              "      <th>room_id</th>\n",
              "      <th>host_id</th>\n",
              "      <th>room_type</th>\n",
              "      <th>neighborhood</th>\n",
              "      <th>reviews</th>\n",
              "      <th>overall_satisfaction</th>\n",
              "      <th>accommodates</th>\n",
              "      <th>bedrooms</th>\n",
              "      <th>price</th>\n",
              "    </tr>\n",
              "  </thead>\n",
              "  <tbody>\n",
              "    <tr>\n",
              "      <th>0</th>\n",
              "      <td>6499</td>\n",
              "      <td>14455</td>\n",
              "      <td>Entire home/apt</td>\n",
              "      <td>Belém</td>\n",
              "      <td>8</td>\n",
              "      <td>5.0</td>\n",
              "      <td>2</td>\n",
              "      <td>1.0</td>\n",
              "      <td>57.0</td>\n",
              "    </tr>\n",
              "    <tr>\n",
              "      <th>1</th>\n",
              "      <td>17031</td>\n",
              "      <td>66015</td>\n",
              "      <td>Entire home/apt</td>\n",
              "      <td>Alvalade</td>\n",
              "      <td>0</td>\n",
              "      <td>0.0</td>\n",
              "      <td>2</td>\n",
              "      <td>1.0</td>\n",
              "      <td>46.0</td>\n",
              "    </tr>\n",
              "    <tr>\n",
              "      <th>2</th>\n",
              "      <td>25659</td>\n",
              "      <td>107347</td>\n",
              "      <td>Entire home/apt</td>\n",
              "      <td>Santa Maria Maior</td>\n",
              "      <td>63</td>\n",
              "      <td>5.0</td>\n",
              "      <td>3</td>\n",
              "      <td>1.0</td>\n",
              "      <td>69.0</td>\n",
              "    </tr>\n",
              "    <tr>\n",
              "      <th>3</th>\n",
              "      <td>29248</td>\n",
              "      <td>125768</td>\n",
              "      <td>Entire home/apt</td>\n",
              "      <td>Santa Maria Maior</td>\n",
              "      <td>225</td>\n",
              "      <td>4.5</td>\n",
              "      <td>4</td>\n",
              "      <td>1.0</td>\n",
              "      <td>58.0</td>\n",
              "    </tr>\n",
              "    <tr>\n",
              "      <th>4</th>\n",
              "      <td>29396</td>\n",
              "      <td>126415</td>\n",
              "      <td>Entire home/apt</td>\n",
              "      <td>Santa Maria Maior</td>\n",
              "      <td>132</td>\n",
              "      <td>5.0</td>\n",
              "      <td>4</td>\n",
              "      <td>1.0</td>\n",
              "      <td>67.0</td>\n",
              "    </tr>\n",
              "  </tbody>\n",
              "</table>\n",
              "</div>"
            ],
            "text/plain": [
              "   room_id  host_id        room_type       neighborhood  reviews  \\\n",
              "0     6499    14455  Entire home/apt              Belém        8   \n",
              "1    17031    66015  Entire home/apt           Alvalade        0   \n",
              "2    25659   107347  Entire home/apt  Santa Maria Maior       63   \n",
              "3    29248   125768  Entire home/apt  Santa Maria Maior      225   \n",
              "4    29396   126415  Entire home/apt  Santa Maria Maior      132   \n",
              "\n",
              "   overall_satisfaction  accommodates  bedrooms  price  \n",
              "0                   5.0             2       1.0   57.0  \n",
              "1                   0.0             2       1.0   46.0  \n",
              "2                   5.0             3       1.0   69.0  \n",
              "3                   4.5             4       1.0   58.0  \n",
              "4                   5.0             4       1.0   67.0  "
            ]
          },
          "metadata": {},
          "output_type": "display_data"
        }
      ],
      "source": [
        "# Primeros registros\n",
        "print(\"\\n👀 Primeras filas del dataset:\")\n",
        "display(df_airbnb.head())"
      ]
    },
    {
      "cell_type": "markdown",
      "metadata": {
        "id": "JWEG3ncQKF9t"
      },
      "source": [
        "### 2. Realizar Filtrados a Datos\n",
        "\n",
        "- Realizar filtrados, según sea el caso.\n",
        "\n",
        "\n",
        "Nota:\n",
        "Para obtener el top de un conjunto de datos debemos aplicar un head(n) además de ordenar los datos"
      ]
    },
    {
      "cell_type": "markdown",
      "metadata": {
        "id": "vjnC8FSdKF9t"
      },
      "source": [
        "#### Caso 1.\n",
        "\n",
        "Alicia va a ir a Lisboa durante una semana con su marido y sus 2 hijos. Están buscando un apartamento con habitaciones separadas para los padres y los hijos. No les importa donde alojarse o el precio, simplemente quieren tener una experiencia agradable. Esto significa que solo aceptan lugares con más de 10 críticas con una puntuación mayor de 4. Cuando seleccionemos habitaciones para Alicia, tenemos que asegurarnos de ordenar las habitaciones de mejor a peor puntuación. Para aquellas habitaciones que tienen la misma puntuación, debemos mostrar antes aquellas con más críticas. Debemos darle 3 alternativas."
      ]
    },
    {
      "cell_type": "code",
      "execution_count": 12,
      "metadata": {
        "colab": {
          "base_uri": "https://localhost:8080/",
          "height": 196
        },
        "id": "lcT7ICt7KF9t",
        "outputId": "8f7300b2-9693-4248-e59f-a4a3b5f242a7"
      },
      "outputs": [
        {
          "data": {
            "text/html": [
              "<div>\n",
              "<style scoped>\n",
              "    .dataframe tbody tr th:only-of-type {\n",
              "        vertical-align: middle;\n",
              "    }\n",
              "\n",
              "    .dataframe tbody tr th {\n",
              "        vertical-align: top;\n",
              "    }\n",
              "\n",
              "    .dataframe thead th {\n",
              "        text-align: right;\n",
              "    }\n",
              "</style>\n",
              "<table border=\"1\" class=\"dataframe\">\n",
              "  <thead>\n",
              "    <tr style=\"text-align: right;\">\n",
              "      <th></th>\n",
              "      <th>room_id</th>\n",
              "      <th>host_id</th>\n",
              "      <th>room_type</th>\n",
              "      <th>neighborhood</th>\n",
              "      <th>reviews</th>\n",
              "      <th>overall_satisfaction</th>\n",
              "      <th>accommodates</th>\n",
              "      <th>bedrooms</th>\n",
              "      <th>price</th>\n",
              "    </tr>\n",
              "  </thead>\n",
              "  <tbody>\n",
              "    <tr>\n",
              "      <th>16</th>\n",
              "      <td>44043</td>\n",
              "      <td>192830</td>\n",
              "      <td>Entire home/apt</td>\n",
              "      <td>Santa Maria Maior</td>\n",
              "      <td>316</td>\n",
              "      <td>5.0</td>\n",
              "      <td>7</td>\n",
              "      <td>3.0</td>\n",
              "      <td>80.0</td>\n",
              "    </tr>\n",
              "    <tr>\n",
              "      <th>2899</th>\n",
              "      <td>4132059</td>\n",
              "      <td>20604318</td>\n",
              "      <td>Entire home/apt</td>\n",
              "      <td>Misericórdia</td>\n",
              "      <td>273</td>\n",
              "      <td>5.0</td>\n",
              "      <td>6</td>\n",
              "      <td>3.0</td>\n",
              "      <td>48.0</td>\n",
              "    </tr>\n",
              "    <tr>\n",
              "      <th>688</th>\n",
              "      <td>785650</td>\n",
              "      <td>4141894</td>\n",
              "      <td>Entire home/apt</td>\n",
              "      <td>Santa Maria Maior</td>\n",
              "      <td>266</td>\n",
              "      <td>5.0</td>\n",
              "      <td>5</td>\n",
              "      <td>3.0</td>\n",
              "      <td>133.0</td>\n",
              "    </tr>\n",
              "  </tbody>\n",
              "</table>\n",
              "</div>"
            ],
            "text/plain": [
              "      room_id   host_id        room_type       neighborhood  reviews  \\\n",
              "16      44043    192830  Entire home/apt  Santa Maria Maior      316   \n",
              "2899  4132059  20604318  Entire home/apt       Misericórdia      273   \n",
              "688    785650   4141894  Entire home/apt  Santa Maria Maior      266   \n",
              "\n",
              "      overall_satisfaction  accommodates  bedrooms  price  \n",
              "16                     5.0             7       3.0   80.0  \n",
              "2899                   5.0             6       3.0   48.0  \n",
              "688                    5.0             5       3.0  133.0  "
            ]
          },
          "execution_count": 12,
          "metadata": {},
          "output_type": "execute_result"
        }
      ],
      "source": [
        "# Filtro: más de 10 reviews y puntuación > 4, al menos 3 habitaciones\n",
        "alicia_df = df_airbnb[\n",
        "    (df_airbnb['accommodates'] >= 4) &\n",
        "    (df_airbnb['bedrooms'] >= 3) & # 3 dormitorios: padres + 2 hijos\n",
        "    (df_airbnb['reviews'] > 10) &\n",
        "    (df_airbnb['overall_satisfaction'] > 4)\n",
        "]\n",
        "\n",
        "# Ordenar por satisfacción (descendente), luego por reviews\n",
        "alicia_df = alicia_df.sort_values(\n",
        "    by=['overall_satisfaction', 'reviews'],\n",
        "    ascending=[False, False]\n",
        ")\n",
        "\n",
        "# Mostrar 3 opciones recomendadas\n",
        "alicia_df.head(3)\n"
      ]
    },
    {
      "cell_type": "markdown",
      "metadata": {
        "id": "eRTamekBKF9t"
      },
      "source": [
        "#### Caso 2\n",
        "\n",
        "Roberto es un casero que tiene una casa en Airbnb. De vez en cuando nos llama preguntando sobre cuales son las críticas de su alojamiento. Hoy está particularmente enfadado, ya que su hermana Clara ha puesto una casa en Airbnb y Roberto quiere asegurarse de que su casa tiene más críticas que las de Clara. Tenemos que crear un dataframe con las propiedades de ambos. Las id de las casas de Roberto y Clara son 97503 y 90387  respectivamente. Finalmente guardamos este dataframe como excel llamado \"roberto.xls"
      ]
    },
    {
      "cell_type": "code",
      "execution_count": 14,
      "metadata": {
        "id": "-NeInAsIKF9t",
        "tags": []
      },
      "outputs": [],
      "source": [
        "# Filtrar por room_id de Roberto y Clara\n",
        "roberto_clara_df = df_airbnb[df_airbnb['room_id'].isin([97503, 90387])]\n",
        "\n",
        "# Guardar a Excel\n",
        "roberto_clara_df.to_excel(\"roberto.xlsx\", index=False)\n"
      ]
    },
    {
      "cell_type": "markdown",
      "metadata": {
        "id": "tEiuoFrVKF9t"
      },
      "source": [
        "\n",
        "#### Caso 3\n",
        "\n",
        "Diana va a Lisboa a pasar 3 noches y quiere conocer a gente nueva. Tiene un presupuesto de 50€ para su alojamiento. Debemos buscarle las 10 propiedades más baratas, dandole preferencia a aquellas que sean habitaciones compartidas *(room_type == Shared room)*, y para aquellas viviendas compartidas debemos elegir aquellas con mejor puntuación."
      ]
    },
    {
      "cell_type": "code",
      "execution_count": 15,
      "metadata": {
        "colab": {
          "base_uri": "https://localhost:8080/",
          "height": 537
        },
        "id": "dBLK3N8JKF9u",
        "outputId": "c1e196d7-951f-41f7-f92e-1ce30e5840b4",
        "tags": []
      },
      "outputs": [
        {
          "data": {
            "text/html": [
              "<div>\n",
              "<style scoped>\n",
              "    .dataframe tbody tr th:only-of-type {\n",
              "        vertical-align: middle;\n",
              "    }\n",
              "\n",
              "    .dataframe tbody tr th {\n",
              "        vertical-align: top;\n",
              "    }\n",
              "\n",
              "    .dataframe thead th {\n",
              "        text-align: right;\n",
              "    }\n",
              "</style>\n",
              "<table border=\"1\" class=\"dataframe\">\n",
              "  <thead>\n",
              "    <tr style=\"text-align: right;\">\n",
              "      <th></th>\n",
              "      <th>room_id</th>\n",
              "      <th>host_id</th>\n",
              "      <th>room_type</th>\n",
              "      <th>neighborhood</th>\n",
              "      <th>reviews</th>\n",
              "      <th>overall_satisfaction</th>\n",
              "      <th>accommodates</th>\n",
              "      <th>bedrooms</th>\n",
              "      <th>price</th>\n",
              "    </tr>\n",
              "  </thead>\n",
              "  <tbody>\n",
              "    <tr>\n",
              "      <th>7034</th>\n",
              "      <td>12268067</td>\n",
              "      <td>66077974</td>\n",
              "      <td>Shared room</td>\n",
              "      <td>Arroios</td>\n",
              "      <td>96</td>\n",
              "      <td>5.0</td>\n",
              "      <td>1</td>\n",
              "      <td>1.0</td>\n",
              "      <td>16.0</td>\n",
              "    </tr>\n",
              "    <tr>\n",
              "      <th>7060</th>\n",
              "      <td>12299998</td>\n",
              "      <td>66077974</td>\n",
              "      <td>Shared room</td>\n",
              "      <td>Arroios</td>\n",
              "      <td>49</td>\n",
              "      <td>5.0</td>\n",
              "      <td>1</td>\n",
              "      <td>1.0</td>\n",
              "      <td>13.0</td>\n",
              "    </tr>\n",
              "    <tr>\n",
              "      <th>7066</th>\n",
              "      <td>12305540</td>\n",
              "      <td>66077974</td>\n",
              "      <td>Shared room</td>\n",
              "      <td>Arroios</td>\n",
              "      <td>40</td>\n",
              "      <td>5.0</td>\n",
              "      <td>1</td>\n",
              "      <td>1.0</td>\n",
              "      <td>13.0</td>\n",
              "    </tr>\n",
              "    <tr>\n",
              "      <th>6399</th>\n",
              "      <td>11278059</td>\n",
              "      <td>58899339</td>\n",
              "      <td>Shared room</td>\n",
              "      <td>Arroios</td>\n",
              "      <td>27</td>\n",
              "      <td>5.0</td>\n",
              "      <td>9</td>\n",
              "      <td>1.0</td>\n",
              "      <td>22.0</td>\n",
              "    </tr>\n",
              "    <tr>\n",
              "      <th>3663</th>\n",
              "      <td>5725814</td>\n",
              "      <td>29676067</td>\n",
              "      <td>Shared room</td>\n",
              "      <td>Misericórdia</td>\n",
              "      <td>23</td>\n",
              "      <td>5.0</td>\n",
              "      <td>6</td>\n",
              "      <td>1.0</td>\n",
              "      <td>21.0</td>\n",
              "    </tr>\n",
              "    <tr>\n",
              "      <th>4911</th>\n",
              "      <td>7722107</td>\n",
              "      <td>40574313</td>\n",
              "      <td>Shared room</td>\n",
              "      <td>Avenidas Novas</td>\n",
              "      <td>22</td>\n",
              "      <td>5.0</td>\n",
              "      <td>4</td>\n",
              "      <td>1.0</td>\n",
              "      <td>36.0</td>\n",
              "    </tr>\n",
              "    <tr>\n",
              "      <th>6459</th>\n",
              "      <td>11427995</td>\n",
              "      <td>32344156</td>\n",
              "      <td>Shared room</td>\n",
              "      <td>Misericórdia</td>\n",
              "      <td>21</td>\n",
              "      <td>5.0</td>\n",
              "      <td>8</td>\n",
              "      <td>1.0</td>\n",
              "      <td>18.0</td>\n",
              "    </tr>\n",
              "    <tr>\n",
              "      <th>3727</th>\n",
              "      <td>5803348</td>\n",
              "      <td>29676067</td>\n",
              "      <td>Shared room</td>\n",
              "      <td>Misericórdia</td>\n",
              "      <td>19</td>\n",
              "      <td>5.0</td>\n",
              "      <td>9</td>\n",
              "      <td>1.0</td>\n",
              "      <td>20.0</td>\n",
              "    </tr>\n",
              "    <tr>\n",
              "      <th>7312</th>\n",
              "      <td>12826213</td>\n",
              "      <td>6981742</td>\n",
              "      <td>Shared room</td>\n",
              "      <td>Alvalade</td>\n",
              "      <td>19</td>\n",
              "      <td>5.0</td>\n",
              "      <td>1</td>\n",
              "      <td>1.0</td>\n",
              "      <td>22.0</td>\n",
              "    </tr>\n",
              "    <tr>\n",
              "      <th>5964</th>\n",
              "      <td>10172929</td>\n",
              "      <td>52218341</td>\n",
              "      <td>Shared room</td>\n",
              "      <td>Areeiro</td>\n",
              "      <td>17</td>\n",
              "      <td>5.0</td>\n",
              "      <td>1</td>\n",
              "      <td>1.0</td>\n",
              "      <td>20.0</td>\n",
              "    </tr>\n",
              "  </tbody>\n",
              "</table>\n",
              "</div>"
            ],
            "text/plain": [
              "       room_id   host_id    room_type    neighborhood  reviews  \\\n",
              "7034  12268067  66077974  Shared room         Arroios       96   \n",
              "7060  12299998  66077974  Shared room         Arroios       49   \n",
              "7066  12305540  66077974  Shared room         Arroios       40   \n",
              "6399  11278059  58899339  Shared room         Arroios       27   \n",
              "3663   5725814  29676067  Shared room    Misericórdia       23   \n",
              "4911   7722107  40574313  Shared room  Avenidas Novas       22   \n",
              "6459  11427995  32344156  Shared room    Misericórdia       21   \n",
              "3727   5803348  29676067  Shared room    Misericórdia       19   \n",
              "7312  12826213   6981742  Shared room        Alvalade       19   \n",
              "5964  10172929  52218341  Shared room         Areeiro       17   \n",
              "\n",
              "      overall_satisfaction  accommodates  bedrooms  price  \n",
              "7034                   5.0             1       1.0   16.0  \n",
              "7060                   5.0             1       1.0   13.0  \n",
              "7066                   5.0             1       1.0   13.0  \n",
              "6399                   5.0             9       1.0   22.0  \n",
              "3663                   5.0             6       1.0   21.0  \n",
              "4911                   5.0             4       1.0   36.0  \n",
              "6459                   5.0             8       1.0   18.0  \n",
              "3727                   5.0             9       1.0   20.0  \n",
              "7312                   5.0             1       1.0   22.0  \n",
              "5964                   5.0             1       1.0   20.0  "
            ]
          },
          "execution_count": 15,
          "metadata": {},
          "output_type": "execute_result"
        }
      ],
      "source": [
        "# Filtro de precio\n",
        "diana_df = df_airbnb[df_airbnb['price'] <= 50]\n",
        "\n",
        "# Habitaciones compartidas ordenadas por satisfacción y luego por número de reviews\n",
        "shared = diana_df[diana_df['room_type'] == 'Shared room'].sort_values(\n",
        "    by=['overall_satisfaction', 'reviews'],\n",
        "    ascending=[False, False]\n",
        ")\n",
        "\n",
        "# Otras habitaciones ordenadas solo por precio\n",
        "otros = diana_df[diana_df['room_type'] != 'Shared room'].sort_values(by='price')\n",
        "\n",
        "# Combinar, priorizando las compartidas mejor calificadas\n",
        "diana_ordenado = pd.concat([shared, otros])\n",
        "\n",
        "# Mostrar las 10 mejores opciones\n",
        "diana_ordenado.head(10)\n"
      ]
    },
    {
      "cell_type": "markdown",
      "metadata": {
        "id": "mnlgBHnAKF9u"
      },
      "source": [
        "### 3. Realizar Agrupamientos de Datos\n",
        "\n",
        "\n",
        "- Según su criterio, aplicar 2 tipos de agrupamientos a los datos brindados.\n",
        "- **Opcional**, averiguar como realizar el gráfico de los 2 agrupamientos de los datos realizados. Se podría emplear librerias como mathplot y searbon ... ayudarse de chatgtp, etc\n"
      ]
    },
    {
      "cell_type": "markdown",
      "metadata": {
        "id": "nBSplMWiReD5"
      },
      "source": [
        "####  Agrupamiento 1: Cantidad de alojamientos por tipo de habitación (room_type)"
      ]
    },
    {
      "cell_type": "code",
      "execution_count": 16,
      "metadata": {
        "colab": {
          "base_uri": "https://localhost:8080/",
          "height": 407
        },
        "id": "ATP6KBVVKF9u",
        "outputId": "d2c10f2a-20df-4d2f-a568-6a5443d3fb48"
      },
      "outputs": [
        {
          "data": {
            "image/png": "[encoded data removed]",
            "text/plain": [
              "<Figure size 600x400 with 1 Axes>"
            ]
          },
          "metadata": {},
          "output_type": "display_data"
        }
      ],
      "source": [
        "# Agrupamiento 1: Conteo por tipo de habitación\n",
        "group1 = df_airbnb.groupby('room_type').size().reset_index(name='count')\n",
        "\n",
        "# Gráfico de barras\n",
        "import seaborn as sns\n",
        "import matplotlib.pyplot as plt\n",
        "\n",
        "plt.figure(figsize=(6,4))\n",
        "sns.barplot(data=group1, x='room_type', y='count')\n",
        "plt.title('Cantidad de alojamientos por tipo de habitación')\n",
        "plt.xlabel('Tipo de habitación')\n",
        "plt.ylabel('Cantidad')\n",
        "plt.xticks(rotation=20)\n",
        "plt.tight_layout()\n",
        "plt.show()\n"
      ]
    },
    {
      "cell_type": "markdown",
      "metadata": {
        "id": "fjAf3-98RrY-"
      },
      "source": [
        "####  Agrupamiento 2: Promedio de satisfacción por barrio (neighborhood)"
      ]
    },
    {
      "cell_type": "code",
      "execution_count": 18,
      "metadata": {
        "colab": {
          "base_uri": "https://localhost:8080/",
          "height": 507
        },
        "id": "L4ykgUPbR1Gb",
        "outputId": "ae03e10d-53bf-4dc5-a9dd-5760d03d2ee1"
      },
      "outputs": [
        {
          "data": {
            "image/png": "[encoded data removed]",
            "text/plain": [
              "<Figure size 800x500 with 1 Axes>"
            ]
          },
          "metadata": {},
          "output_type": "display_data"
        }
      ],
      "source": [
        "# Agrupamiento 2\n",
        "group2 = df_airbnb.groupby('neighborhood')['overall_satisfaction'].mean().reset_index()\n",
        "\n",
        "# Tomar top 10 barrios con mayor satisfacción promedio\n",
        "top10_barrios = group2.sort_values(by='overall_satisfaction', ascending=False).head(10)\n",
        "\n",
        "# Gráfico de barras horizontales (corregido el warning)\n",
        "plt.figure(figsize=(8,5))\n",
        "sns.barplot(\n",
        "    data=top10_barrios,\n",
        "    x='overall_satisfaction',\n",
        "    y='neighborhood',\n",
        "    hue='neighborhood',\n",
        "    palette='viridis',\n",
        "    legend=False  # Ocultamos leyenda para evitar redundancia\n",
        ")\n",
        "plt.title('Top 10 barrios con mejor puntuación promedio')\n",
        "plt.xlabel('Puntuación promedio')\n",
        "plt.ylabel('Barrio')\n",
        "plt.tight_layout()\n",
        "plt.show()\n"
      ]
    }
  ],
  "metadata": {
    "colab": {
      "provenance": []
    },
    "kernelspec": {
      "display_name": ".venv (3.12.3)",
      "language": "python",
      "name": "python3"
    },
    "language_info": {
      "codemirror_mode": {
        "name": "ipython",
        "version": 3
      },
      "file_extension": ".py",
      "mimetype": "text/x-python",
      "name": "python",
      "nbconvert_exporter": "python",
      "pygments_lexer": "ipython3",
      "version": "3.12.3"
    }
  },
  "nbformat": 4,
  "nbformat_minor": 0
}
